{
 "cells": [
  {
   "cell_type": "code",
   "execution_count": null,
   "id": "ba2a8ae6-1091-4a2d-83d7-0b28ba58b06f",
   "metadata": {},
   "outputs": [],
   "source": [
    "import os\n",
    "import streamlit as st\n",
    "import streamlit_extras\n",
    "import pandas as pd\n",
    "import numpy as np\n",
    "import sklearn\n",
    "import pickle\n",
    "st.title(\"Welcome to the Movie Recommender System\")\n",
    "\n",
    "\n",
    "# Decompress the similarity file\n",
    "with gzip.open('similarity.pkl.gz', 'rb') as f_in:\n",
    "    with open('similarity.pkl', 'wb') as f_out:\n",
    "        shutil.copyfileobj(f_in, f_out)\n",
    "\n",
    "# Load the similarity matrix and the dataset\n",
    "with open('similarity.pkl', 'rb') as file:\n",
    "    similarity_matrix = pickle.load(file)\n",
    "\n",
    "\n",
    "# load the pretrained model\n",
    "with open(\"preprocessed_dataset.pkl\",'rb') as file:\n",
    "    model=pickle.load(file)\n",
    "\n",
    "\n",
    "# Function to recommend movies\n",
    "def recommend(movie):\n",
    "    try:\n",
    "        index = model[model['title'] == movie].index[0]\n",
    "        distances = sorted(list(enumerate(similarity_matrix[index])), reverse=True, key=lambda x: x[1])\n",
    "        recommended_movies = [model.iloc[i[0]].title for i in distances[1:6]]\n",
    "        return recommended_movies\n",
    "    except IndexError:\n",
    "        return [\"Movie not found in the dataset.\"]\n",
    "\n",
    "\n",
    "\n",
    "# user input\n",
    "movie_name=st.text_input(\"enter movie name you like:\")\n",
    "\n",
    "if st.button('Recommend'):\n",
    "    if movie_name:\n",
    "        recommendations = recommend(movie_name)\n",
    "        st.write(\"Recommended Movies:\")\n",
    "        for movie in recommendations:\n",
    "            st.write(movie)\n",
    "    else:\n",
    "        st.write(\"Please enter a movie name.\")\n",
    "    \n",
    "\n",
    "\n",
    "\n",
    "\n"
   ]
  }
 ],
 "metadata": {
  "kernelspec": {
   "display_name": "Python 3 (ipykernel)",
   "language": "python",
   "name": "python3"
  },
  "language_info": {
   "codemirror_mode": {
    "name": "ipython",
    "version": 3
   },
   "file_extension": ".py",
   "mimetype": "text/x-python",
   "name": "python",
   "nbconvert_exporter": "python",
   "pygments_lexer": "ipython3",
   "version": "3.12.1"
  }
 },
 "nbformat": 4,
 "nbformat_minor": 5
}
